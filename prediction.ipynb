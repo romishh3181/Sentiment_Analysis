{
 "cells": [
  {
   "cell_type": "code",
   "execution_count": 4,
   "metadata": {},
   "outputs": [],
   "source": [
    "# Step 1: Import Libraries and Load the Model\n",
    "import numpy as np\n",
    "import tensorflow as tf\n",
    "from tensorflow.keras.datasets import imdb\n",
    "from tensorflow.keras.preprocessing import sequence\n",
    "from tensorflow.keras.models import load_model"
   ]
  },
  {
   "cell_type": "code",
   "execution_count": 5,
   "metadata": {},
   "outputs": [],
   "source": [
    "\n",
    "# Load the IMDB dataset word index\n",
    "word_index = imdb.get_word_index()\n",
    "reverse_word_index = {value: key for key, value in word_index.items()}"
   ]
  },
  {
   "cell_type": "code",
   "execution_count": 6,
   "metadata": {},
   "outputs": [
    {
     "name": "stderr",
     "output_type": "stream",
     "text": [
      "WARNING:absl:Compiled the loaded model, but the compiled metrics have yet to be built. `model.compile_metrics` will be empty until you train or evaluate the model.\n"
     ]
    },
    {
     "data": {
      "text/html": [
       "<pre style=\"white-space:pre;overflow-x:auto;line-height:normal;font-family:Menlo,'DejaVu Sans Mono',consolas,'Courier New',monospace\"><span style=\"font-weight: bold\">Model: \"sequential\"</span>\n",
       "</pre>\n"
      ],
      "text/plain": [
       "\u001b[1mModel: \"sequential\"\u001b[0m\n"
      ]
     },
     "metadata": {},
     "output_type": "display_data"
    },
    {
     "data": {
      "text/html": [
       "<pre style=\"white-space:pre;overflow-x:auto;line-height:normal;font-family:Menlo,'DejaVu Sans Mono',consolas,'Courier New',monospace\">┏━━━━━━━━━━━━━━━━━━━━━━━━━━━━━━━━━┳━━━━━━━━━━━━━━━━━━━━━━━━┳━━━━━━━━━━━━━━━┓\n",
       "┃<span style=\"font-weight: bold\"> Layer (type)                    </span>┃<span style=\"font-weight: bold\"> Output Shape           </span>┃<span style=\"font-weight: bold\">       Param # </span>┃\n",
       "┡━━━━━━━━━━━━━━━━━━━━━━━━━━━━━━━━━╇━━━━━━━━━━━━━━━━━━━━━━━━╇━━━━━━━━━━━━━━━┩\n",
       "│ embedding (<span style=\"color: #0087ff; text-decoration-color: #0087ff\">Embedding</span>)           │ (<span style=\"color: #00af00; text-decoration-color: #00af00\">32</span>, <span style=\"color: #00af00; text-decoration-color: #00af00\">500</span>, <span style=\"color: #00af00; text-decoration-color: #00af00\">128</span>)         │     <span style=\"color: #00af00; text-decoration-color: #00af00\">1,280,000</span> │\n",
       "├─────────────────────────────────┼────────────────────────┼───────────────┤\n",
       "│ simple_rnn (<span style=\"color: #0087ff; text-decoration-color: #0087ff\">SimpleRNN</span>)          │ (<span style=\"color: #00af00; text-decoration-color: #00af00\">32</span>, <span style=\"color: #00af00; text-decoration-color: #00af00\">128</span>)              │        <span style=\"color: #00af00; text-decoration-color: #00af00\">32,896</span> │\n",
       "├─────────────────────────────────┼────────────────────────┼───────────────┤\n",
       "│ dense (<span style=\"color: #0087ff; text-decoration-color: #0087ff\">Dense</span>)                   │ (<span style=\"color: #00af00; text-decoration-color: #00af00\">32</span>, <span style=\"color: #00af00; text-decoration-color: #00af00\">1</span>)                │           <span style=\"color: #00af00; text-decoration-color: #00af00\">129</span> │\n",
       "└─────────────────────────────────┴────────────────────────┴───────────────┘\n",
       "</pre>\n"
      ],
      "text/plain": [
       "┏━━━━━━━━━━━━━━━━━━━━━━━━━━━━━━━━━┳━━━━━━━━━━━━━━━━━━━━━━━━┳━━━━━━━━━━━━━━━┓\n",
       "┃\u001b[1m \u001b[0m\u001b[1mLayer (type)                   \u001b[0m\u001b[1m \u001b[0m┃\u001b[1m \u001b[0m\u001b[1mOutput Shape          \u001b[0m\u001b[1m \u001b[0m┃\u001b[1m \u001b[0m\u001b[1m      Param #\u001b[0m\u001b[1m \u001b[0m┃\n",
       "┡━━━━━━━━━━━━━━━━━━━━━━━━━━━━━━━━━╇━━━━━━━━━━━━━━━━━━━━━━━━╇━━━━━━━━━━━━━━━┩\n",
       "│ embedding (\u001b[38;5;33mEmbedding\u001b[0m)           │ (\u001b[38;5;34m32\u001b[0m, \u001b[38;5;34m500\u001b[0m, \u001b[38;5;34m128\u001b[0m)         │     \u001b[38;5;34m1,280,000\u001b[0m │\n",
       "├─────────────────────────────────┼────────────────────────┼───────────────┤\n",
       "│ simple_rnn (\u001b[38;5;33mSimpleRNN\u001b[0m)          │ (\u001b[38;5;34m32\u001b[0m, \u001b[38;5;34m128\u001b[0m)              │        \u001b[38;5;34m32,896\u001b[0m │\n",
       "├─────────────────────────────────┼────────────────────────┼───────────────┤\n",
       "│ dense (\u001b[38;5;33mDense\u001b[0m)                   │ (\u001b[38;5;34m32\u001b[0m, \u001b[38;5;34m1\u001b[0m)                │           \u001b[38;5;34m129\u001b[0m │\n",
       "└─────────────────────────────────┴────────────────────────┴───────────────┘\n"
      ]
     },
     "metadata": {},
     "output_type": "display_data"
    },
    {
     "data": {
      "text/html": [
       "<pre style=\"white-space:pre;overflow-x:auto;line-height:normal;font-family:Menlo,'DejaVu Sans Mono',consolas,'Courier New',monospace\"><span style=\"font-weight: bold\"> Total params: </span><span style=\"color: #00af00; text-decoration-color: #00af00\">1,313,027</span> (5.01 MB)\n",
       "</pre>\n"
      ],
      "text/plain": [
       "\u001b[1m Total params: \u001b[0m\u001b[38;5;34m1,313,027\u001b[0m (5.01 MB)\n"
      ]
     },
     "metadata": {},
     "output_type": "display_data"
    },
    {
     "data": {
      "text/html": [
       "<pre style=\"white-space:pre;overflow-x:auto;line-height:normal;font-family:Menlo,'DejaVu Sans Mono',consolas,'Courier New',monospace\"><span style=\"font-weight: bold\"> Trainable params: </span><span style=\"color: #00af00; text-decoration-color: #00af00\">1,313,025</span> (5.01 MB)\n",
       "</pre>\n"
      ],
      "text/plain": [
       "\u001b[1m Trainable params: \u001b[0m\u001b[38;5;34m1,313,025\u001b[0m (5.01 MB)\n"
      ]
     },
     "metadata": {},
     "output_type": "display_data"
    },
    {
     "data": {
      "text/html": [
       "<pre style=\"white-space:pre;overflow-x:auto;line-height:normal;font-family:Menlo,'DejaVu Sans Mono',consolas,'Courier New',monospace\"><span style=\"font-weight: bold\"> Non-trainable params: </span><span style=\"color: #00af00; text-decoration-color: #00af00\">0</span> (0.00 B)\n",
       "</pre>\n"
      ],
      "text/plain": [
       "\u001b[1m Non-trainable params: \u001b[0m\u001b[38;5;34m0\u001b[0m (0.00 B)\n"
      ]
     },
     "metadata": {},
     "output_type": "display_data"
    },
    {
     "data": {
      "text/html": [
       "<pre style=\"white-space:pre;overflow-x:auto;line-height:normal;font-family:Menlo,'DejaVu Sans Mono',consolas,'Courier New',monospace\"><span style=\"font-weight: bold\"> Optimizer params: </span><span style=\"color: #00af00; text-decoration-color: #00af00\">2</span> (12.00 B)\n",
       "</pre>\n"
      ],
      "text/plain": [
       "\u001b[1m Optimizer params: \u001b[0m\u001b[38;5;34m2\u001b[0m (12.00 B)\n"
      ]
     },
     "metadata": {},
     "output_type": "display_data"
    }
   ],
   "source": [
    "# Load the pre-trained model with ReLU activation\n",
    "model = load_model('simple_rnn_imdb.h5')\n",
    "model.summary()"
   ]
  },
  {
   "cell_type": "code",
   "execution_count": 7,
   "metadata": {},
   "outputs": [
    {
     "data": {
      "text/plain": [
       "[array([[ 0.26312125, -0.35965794, -0.29175612, ...,  0.2851193 ,\n",
       "          0.17487085,  0.3834473 ],\n",
       "        [-0.03119937, -0.04394662,  0.00475146, ...,  0.01334924,\n",
       "         -0.01480769, -0.0308625 ],\n",
       "        [ 0.04605382, -0.0643824 , -0.00640548, ...,  0.09191626,\n",
       "          0.08660384,  0.0761428 ],\n",
       "        ...,\n",
       "        [-0.12599955, -0.03015069,  0.04181189, ..., -0.05424836,\n",
       "         -0.00398974,  0.04254856],\n",
       "        [-0.05262831,  0.00966209,  0.0175427 , ...,  0.00581391,\n",
       "         -0.01584257,  0.13492177],\n",
       "        [ 0.01738817, -0.14408588, -0.00045986, ..., -0.16021012,\n",
       "         -0.07450673, -0.08563338]], dtype=float32),\n",
       " array([[ 0.01924413,  0.10422084, -0.05225866, ..., -0.07152275,\n",
       "         -0.04279936,  0.07360145],\n",
       "        [-0.09572763, -0.16001187,  0.09548026, ...,  0.05576407,\n",
       "         -0.14638354,  0.00307241],\n",
       "        [ 0.07319999, -0.0738428 ,  0.00767675, ..., -0.05740021,\n",
       "          0.10372107, -0.12791409],\n",
       "        ...,\n",
       "        [ 0.08225658, -0.16839772, -0.14050515, ..., -0.02084914,\n",
       "          0.02043281, -0.10610495],\n",
       "        [-0.09609362, -0.14504433,  0.08540157, ...,  0.05451002,\n",
       "         -0.06275526, -0.00952081],\n",
       "        [ 0.04041824, -0.15404338, -0.02035284, ...,  0.18129975,\n",
       "          0.07682072,  0.01441844]], dtype=float32),\n",
       " array([[ 0.03909441, -0.15951966, -0.09142119, ...,  0.3261612 ,\n",
       "         -0.0037367 ,  0.04880391],\n",
       "        [ 0.08496755,  0.06049046, -0.03819023, ..., -0.07715835,\n",
       "          0.0060065 ,  0.01034645],\n",
       "        [ 0.02559596,  0.01964276,  0.1304983 , ..., -0.03525202,\n",
       "          0.02760958, -0.0430655 ],\n",
       "        ...,\n",
       "        [ 0.09673078,  0.25198132, -0.2634299 , ...,  0.30011317,\n",
       "         -0.17101152,  0.04213448],\n",
       "        [-0.073098  ,  0.07622155,  0.1630992 , ...,  0.0488025 ,\n",
       "         -0.06171631,  0.12999912],\n",
       "        [-0.09340946,  0.01485819,  0.1498201 , ...,  0.13306119,\n",
       "          0.02400708, -0.04694428]], dtype=float32),\n",
       " array([-3.7477352e-02, -1.4556455e-02,  6.0720630e-03,  3.5579058e-03,\n",
       "        -5.1114466e-02, -2.4243947e-02, -3.0256353e-02, -1.7603295e-04,\n",
       "         2.8678490e-02,  3.4586876e-03,  2.2634991e-02, -8.8433241e-03,\n",
       "         3.0907340e-02, -3.6172040e-02, -1.4829680e-02, -9.7319912e-03,\n",
       "        -4.2957358e-02, -6.9249935e-02, -8.7408926e-03, -2.8642095e-03,\n",
       "        -2.3557061e-02,  2.6311334e-02, -8.2260249e-03,  4.7109377e-02,\n",
       "        -2.5369698e-02, -2.5811406e-02, -1.6375529e-02, -1.6437277e-02,\n",
       "         4.1336459e-03, -5.7351040e-03, -7.5939316e-03, -1.5021055e-02,\n",
       "         3.6406159e-02, -4.5275185e-02, -1.5409733e-02,  7.7480763e-02,\n",
       "        -5.2731037e-03,  1.7682767e-02, -3.1972103e-02,  8.0610402e-03,\n",
       "         3.0551117e-03, -2.4030216e-02, -9.1893086e-03,  3.9669864e-02,\n",
       "         3.6943603e-02, -2.6071558e-02, -1.5164468e-02, -4.2938199e-02,\n",
       "        -4.0715113e-03, -1.0522702e-02,  6.1033938e-02, -1.1682365e-02,\n",
       "         3.2222789e-02,  1.4513505e-02, -3.1540256e-02,  2.6772007e-02,\n",
       "         4.2562555e-03,  1.3869094e-02, -2.1684641e-02,  2.1064254e-02,\n",
       "         1.0505809e-02,  1.7716633e-02, -3.3989246e-03,  6.6972426e-03,\n",
       "         2.7995052e-02, -3.6928505e-03, -1.6653923e-02, -3.3509277e-02,\n",
       "        -1.2275151e-02, -1.0629919e-02, -2.1691395e-02,  3.9580786e-03,\n",
       "        -8.8587927e-04,  1.7145000e-02, -3.9868369e-03, -1.4698948e-02,\n",
       "         4.7560134e-03,  4.4787577e-03,  2.1119523e-03, -2.0097414e-02,\n",
       "        -1.1308146e-02,  2.5347047e-02, -2.5725830e-02, -1.9129211e-02,\n",
       "         8.7675685e-03,  3.2937866e-02,  1.0255150e-02,  5.0827678e-02,\n",
       "        -2.3734888e-02,  4.0311798e-02, -8.6365042e-05,  4.3351939e-03,\n",
       "        -5.7079159e-02, -2.2587584e-02, -4.1288376e-02, -2.6474349e-02,\n",
       "        -1.1688407e-02, -3.0599842e-02,  1.7752906e-02, -3.0037835e-02,\n",
       "         5.1718250e-02, -8.7301806e-03,  3.2919189e-03, -2.4544405e-02,\n",
       "        -2.3938140e-02,  2.7110690e-02, -4.2884052e-02,  5.7046860e-03,\n",
       "        -2.5143275e-02,  3.8505506e-02,  3.3843812e-02, -1.8253596e-02,\n",
       "        -3.8004767e-02,  4.3837652e-03, -1.9206308e-02,  3.5463251e-02,\n",
       "         2.6199827e-05, -1.3812072e-02, -2.5281759e-02, -4.3616466e-02,\n",
       "        -3.6771718e-02, -2.4832066e-02, -2.9291760e-03, -1.6869791e-02,\n",
       "        -2.6146373e-02,  3.9507437e-02,  3.6314853e-02,  3.6163051e-02],\n",
       "       dtype=float32),\n",
       " array([[-0.09011207],\n",
       "        [ 0.40593982],\n",
       "        [ 0.0755849 ],\n",
       "        [-0.52388394],\n",
       "        [-0.20658357],\n",
       "        [ 0.0920746 ],\n",
       "        [ 0.04260652],\n",
       "        [-0.09995221],\n",
       "        [ 0.18134597],\n",
       "        [-0.11417319],\n",
       "        [ 0.0765573 ],\n",
       "        [-0.2013025 ],\n",
       "        [-0.17101532],\n",
       "        [ 0.11415968],\n",
       "        [ 0.10739277],\n",
       "        [ 0.08289219],\n",
       "        [ 0.35658732],\n",
       "        [ 0.14090462],\n",
       "        [-0.28749812],\n",
       "        [ 0.6498306 ],\n",
       "        [-0.06108177],\n",
       "        [-0.12412547],\n",
       "        [ 0.04408533],\n",
       "        [ 0.05341716],\n",
       "        [ 0.0312357 ],\n",
       "        [ 0.13937166],\n",
       "        [ 0.03568254],\n",
       "        [ 0.0095246 ],\n",
       "        [ 0.3255665 ],\n",
       "        [ 0.03321998],\n",
       "        [-0.00637541],\n",
       "        [ 0.00620368],\n",
       "        [ 0.04789023],\n",
       "        [ 0.08136564],\n",
       "        [-0.13062564],\n",
       "        [-0.09074467],\n",
       "        [ 0.05692924],\n",
       "        [ 0.09401649],\n",
       "        [ 0.0826993 ],\n",
       "        [ 0.02218461],\n",
       "        [-0.2721964 ],\n",
       "        [ 0.00963931],\n",
       "        [ 0.22853811],\n",
       "        [-0.2753358 ],\n",
       "        [-0.055252  ],\n",
       "        [-0.00306138],\n",
       "        [-0.01433368],\n",
       "        [-0.5841968 ],\n",
       "        [-0.11884891],\n",
       "        [ 0.2877535 ],\n",
       "        [-0.09445301],\n",
       "        [ 0.6883573 ],\n",
       "        [-0.08196916],\n",
       "        [ 0.26319772],\n",
       "        [-0.9675757 ],\n",
       "        [-0.04355897],\n",
       "        [-0.14823306],\n",
       "        [-0.03679468],\n",
       "        [ 0.07656317],\n",
       "        [-0.16861935],\n",
       "        [ 0.08560606],\n",
       "        [ 0.01125497],\n",
       "        [-0.13038059],\n",
       "        [-0.1569684 ],\n",
       "        [ 0.04052931],\n",
       "        [ 0.10800321],\n",
       "        [ 0.16513926],\n",
       "        [ 0.16075298],\n",
       "        [ 0.11449642],\n",
       "        [-0.07881502],\n",
       "        [ 0.02904107],\n",
       "        [ 0.05764332],\n",
       "        [ 0.14983588],\n",
       "        [ 0.0865187 ],\n",
       "        [-0.09097429],\n",
       "        [-0.04940584],\n",
       "        [ 0.03919669],\n",
       "        [-0.06981128],\n",
       "        [-0.13055791],\n",
       "        [ 0.0943312 ],\n",
       "        [ 0.1182692 ],\n",
       "        [ 0.03715032],\n",
       "        [ 0.58029115],\n",
       "        [ 0.14045592],\n",
       "        [ 0.18085966],\n",
       "        [ 0.01436424],\n",
       "        [ 1.1726675 ],\n",
       "        [-0.09217518],\n",
       "        [-0.08955265],\n",
       "        [-0.02369325],\n",
       "        [ 0.07123261],\n",
       "        [ 0.15843445],\n",
       "        [ 0.08766132],\n",
       "        [ 0.04767462],\n",
       "        [-0.42517048],\n",
       "        [ 0.04605449],\n",
       "        [-0.05173009],\n",
       "        [ 0.02992371],\n",
       "        [ 0.01303175],\n",
       "        [ 0.03079566],\n",
       "        [-0.11973932],\n",
       "        [ 0.15539046],\n",
       "        [-0.00132503],\n",
       "        [-0.26269966],\n",
       "        [ 0.11554895],\n",
       "        [-0.17835662],\n",
       "        [ 0.5936099 ],\n",
       "        [-0.06632076],\n",
       "        [ 0.15967742],\n",
       "        [-0.16781603],\n",
       "        [-0.10816488],\n",
       "        [-0.17203784],\n",
       "        [ 0.11918096],\n",
       "        [-0.10061213],\n",
       "        [ 0.07778186],\n",
       "        [ 0.05634089],\n",
       "        [ 0.21196748],\n",
       "        [ 0.18574147],\n",
       "        [ 0.18359807],\n",
       "        [ 0.0417565 ],\n",
       "        [-0.12518534],\n",
       "        [ 0.15308827],\n",
       "        [ 0.16620594],\n",
       "        [ 0.08942498],\n",
       "        [-0.06974745],\n",
       "        [-0.31259054],\n",
       "        [ 0.11830575],\n",
       "        [-0.14712413]], dtype=float32),\n",
       " array([0.6906859], dtype=float32)]"
      ]
     },
     "execution_count": 7,
     "metadata": {},
     "output_type": "execute_result"
    }
   ],
   "source": [
    "model.get_weights()"
   ]
  },
  {
   "cell_type": "code",
   "execution_count": 8,
   "metadata": {},
   "outputs": [],
   "source": [
    "# Step 2: Helper Functions\n",
    "# Function to decode reviews\n",
    "def decode_review(encoded_review):\n",
    "    return ' '.join([reverse_word_index.get(i - 3, '?') for i in encoded_review])\n",
    "\n",
    "# Function to preprocess user input\n",
    "def preprocess_text(text):\n",
    "    words = text.lower().split()\n",
    "    encoded_review = [word_index.get(word, 2) + 3 for word in words]\n",
    "    padded_review = sequence.pad_sequences([encoded_review], maxlen=500)\n",
    "    return padded_review"
   ]
  },
  {
   "cell_type": "code",
   "execution_count": 9,
   "metadata": {},
   "outputs": [],
   "source": [
    "### Prediction  function\n",
    "\n",
    "def predict_sentiment(review):\n",
    "    preprocessed_input=preprocess_text(review)\n",
    "\n",
    "    prediction=model.predict(preprocessed_input)\n",
    "\n",
    "    sentiment = 'Positive' if prediction[0][0] > 0.5 else 'Negative'\n",
    "    \n",
    "    return sentiment, prediction[0][0]\n",
    "\n"
   ]
  },
  {
   "cell_type": "code",
   "execution_count": 10,
   "metadata": {},
   "outputs": [
    {
     "name": "stdout",
     "output_type": "stream",
     "text": [
      "\u001b[1m1/1\u001b[0m \u001b[32m━━━━━━━━━━━━━━━━━━━━\u001b[0m\u001b[37m\u001b[0m \u001b[1m0s\u001b[0m 277ms/step\n",
      "Review: This movie was fantastic! The acting was great and the plot was thrilling.\n",
      "Sentiment: Negative\n",
      "Prediction Score: 0.004537565633654594\n"
     ]
    }
   ],
   "source": [
    "# Step 4: User Input and Prediction\n",
    "# Example review for prediction\n",
    "example_review = \"This movie was fantastic! The acting was great and the plot was thrilling.\"\n",
    "\n",
    "sentiment,score=predict_sentiment(example_review)\n",
    "\n",
    "print(f'Review: {example_review}')\n",
    "print(f'Sentiment: {sentiment}')\n",
    "print(f'Prediction Score: {score}')"
   ]
  },
  {
   "cell_type": "code",
   "execution_count": null,
   "metadata": {},
   "outputs": [],
   "source": []
  },
  {
   "cell_type": "code",
   "execution_count": null,
   "metadata": {},
   "outputs": [],
   "source": []
  },
  {
   "cell_type": "code",
   "execution_count": null,
   "metadata": {},
   "outputs": [],
   "source": []
  },
  {
   "cell_type": "code",
   "execution_count": null,
   "metadata": {},
   "outputs": [],
   "source": []
  }
 ],
 "metadata": {
  "kernelspec": {
   "display_name": "venv",
   "language": "python",
   "name": "python3"
  },
  "language_info": {
   "codemirror_mode": {
    "name": "ipython",
    "version": 3
   },
   "file_extension": ".py",
   "mimetype": "text/x-python",
   "name": "python",
   "nbconvert_exporter": "python",
   "pygments_lexer": "ipython3",
   "version": "3.12.4"
  }
 },
 "nbformat": 4,
 "nbformat_minor": 2
}
